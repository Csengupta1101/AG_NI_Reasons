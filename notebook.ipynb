{
 "cells": [
  {
   "cell_type": "code",
   "execution_count": 7,
   "metadata": {},
   "outputs": [],
   "source": [
    "import pandas as pd \n",
    "import numpy as np \n",
    "import seaborn as sns \n",
    "import matplotlib.pyplot as plt \n",
    "import plotly.express as px \n",
    "import plotly.graph_objs as go"
   ]
  },
  {
   "cell_type": "code",
   "execution_count": 8,
   "metadata": {},
   "outputs": [],
   "source": [
    "df = pd.read_excel(r'.\\Data\\AG_Demo_ihb.xlsx')\n",
    "df.dropna(inplace=True)"
   ]
  },
  {
   "cell_type": "code",
   "execution_count": 10,
   "metadata": {},
   "outputs": [],
   "source": [
    "\n",
    "df['call count percentage'] = df.groupby(['Reason', 'state', 'district', 'block_name'])['call count'].transform(lambda x: x / x.sum() * 100)\n",
    "treemap_chart = px.treemap(df, path=['Reason', 'state', 'district', 'block_name'],\n",
    "                           values='call count',\n",
    "                           hover_data=['call count', 'call count percentage'],\n",
    "                           labels={'call count': 'Call Count'},\n",
    "                           title='IHB Not interested Reasons',\n",
    "                           template='plotly')\n",
    "treemap_chart.update_traces(textinfo='label+text+value+percent entry',marker_line_color='black',\n",
    "                           marker_line_width=0.5)\n",
    "treemap_chart.update_layout(\n",
    "   uniformtext=dict(mode=False, minsize=8,),\n",
    ")\n",
    "treemap_chart.write_html('./templates/treemap.html')"
   ]
  }
 ],
 "metadata": {
  "kernelspec": {
   "display_name": "Python 3",
   "language": "python",
   "name": "python3"
  },
  "language_info": {
   "codemirror_mode": {
    "name": "ipython",
    "version": 3
   },
   "file_extension": ".py",
   "mimetype": "text/x-python",
   "name": "python",
   "nbconvert_exporter": "python",
   "pygments_lexer": "ipython3",
   "version": "3.11.4"
  }
 },
 "nbformat": 4,
 "nbformat_minor": 2
}
